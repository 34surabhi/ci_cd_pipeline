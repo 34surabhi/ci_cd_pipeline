{
 "cells": [
  {
   "cell_type": "markdown",
   "metadata": {},
   "source": [
    "## Create your own sample github workflow\n",
    "\n",
    "Run the below code, it will prompt you to enter your name.\n",
    "\n",
    "- It will create workflow file with your name\n",
    "- Also, model/scaler file will be created with your name and uploaded to S3\n",
    "- Finally docker image will also get created with your name "
   ]
  },
  {
   "cell_type": "code",
   "execution_count": 4,
   "metadata": {},
   "outputs": [
    {
     "name": "stdout",
     "output_type": "stream",
     "text": [
      "Successfully updated and renamed the file to: .github\\workflows\\model_train_serving_workflow_vaibhav.yaml\n"
     ]
    }
   ],
   "source": [
    "def update_file_with_name_and_rename(file_path):\n",
    "    try:\n",
    "        # Prompt the user for the name\n",
    "        name = input(\"Enter the name to replace {name}: \")\n",
    "\n",
    "        # Read the content of the file\n",
    "        with open(file_path, 'r') as file:\n",
    "            content = file.read()\n",
    "\n",
    "        # Replace the placeholder `{name}` with the provided name\n",
    "        updated_content = content.replace(\"{name}\", name)\n",
    "\n",
    "        # Write the updated content back to a new file with the updated name\n",
    "        new_file_path = file_path.replace(\".yaml.sample\", f\"_{name}.yaml\")\n",
    "        with open(new_file_path, 'w') as file:\n",
    "            file.write(updated_content)\n",
    "\n",
    "        print(f\"Successfully updated and renamed the file to: {new_file_path}\")\n",
    "    except Exception as e:\n",
    "        print(f\"An error occurred: {e}\")\n",
    "\n",
    "# Example usage\n",
    "file_path = \".github\\workflows\\model_train_serving_workflow.yaml.sample\"  # Replace with the actual file path\n",
    "update_file_with_name_and_rename(file_path)\n"
   ]
  },
  {
   "cell_type": "code",
   "execution_count": 5,
   "metadata": {},
   "outputs": [
    {
     "name": "stderr",
     "output_type": "stream",
     "text": [
      "warning: in the working copy of 'instruction.ipynb', LF will be replaced by CRLF the next time Git touches it\n"
     ]
    }
   ],
   "source": [
    "!git add .\n",
    "\n",
    "!git commit -m \"my workflow\""
   ]
  }
 ],
 "metadata": {
  "kernelspec": {
   "display_name": "base",
   "language": "python",
   "name": "python3"
  },
  "language_info": {
   "codemirror_mode": {
    "name": "ipython",
    "version": 3
   },
   "file_extension": ".py",
   "mimetype": "text/x-python",
   "name": "python",
   "nbconvert_exporter": "python",
   "pygments_lexer": "ipython3",
   "version": "3.11.7"
  }
 },
 "nbformat": 4,
 "nbformat_minor": 2
}
